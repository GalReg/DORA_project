{
  "nbformat": 4,
  "nbformat_minor": 0,
  "metadata": {
    "colab": {
      "provenance": []
    },
    "kernelspec": {
      "name": "python3",
      "display_name": "Python 3"
    },
    "language_info": {
      "name": "python"
    }
  },
  "cells": [
    {
      "cell_type": "code",
      "source": [
        "import pandas as pd\n",
        "from sklearn.model_selection import train_test_split\n",
        "from sklearn.preprocessing import StandardScaler\n",
        "\n",
        "# Загрузка данных\n",
        "df = pd.read_csv('../data/raw/sales_data.csv')\n",
        "\n",
        "# 1. Очистка данных\n",
        "df = df.dropna()\n",
        "\n",
        "# 2. Нормализация числовых признаков\n",
        "scaler = StandardScaler()\n",
        "num_cols = ['Age', 'AnnualIncome', 'NumberOfPurchases', 'ProductCategory', 'TimeSpentOnWebsite', 'LoyaltyProgram', 'DiscountsAvailed']\n",
        "df[num_cols] = scaler.fit_transform(df[num_cols])\n",
        "\n",
        "# 3. Разделение данных\n",
        "train, test = train_test_split(df, test_size=0.2, random_state=42)\n",
        "\n",
        "# Сохранение\n",
        "train.to_csv('../data/processed/train.csv', index=False)\n",
        "test.to_csv('../data/processed/test.csv', index=False)"
      ],
      "metadata": {
        "id": "8LZyYZCwjh-z"
      },
      "execution_count": null,
      "outputs": []
    }
  ]
}