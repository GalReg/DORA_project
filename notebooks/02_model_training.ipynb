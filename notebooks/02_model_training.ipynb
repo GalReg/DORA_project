{
  "nbformat": 4,
  "nbformat_minor": 0,
  "metadata": {
    "colab": {
      "provenance": []
    },
    "kernelspec": {
      "name": "python3",
      "display_name": "Python 3"
    },
    "language_info": {
      "name": "python"
    }
  },
  "cells": [
    {
      "cell_type": "code",
      "source": [
        "import pandas as pd\n",
        "import joblib\n",
        "from sklearn.ensemble import RandomForestClassifier, GradientBoostingClassifier\n",
        "from sklearn.svm import SVC\n",
        "\n",
        "# Загрузка данных\n",
        "train = pd.read_csv('../data/processed/train.csv')\n",
        "\n",
        "# Выделение признаков и целевой переменной\n",
        "X = train.drop('PurchaseStatus', axis=1)\n",
        "y = train['PurchaseStatus']\n",
        "\n",
        "# 1. Обучение RandomForest\n",
        "rf = RandomForestClassifier(n_estimators=100)\n",
        "rf.fit(X, y)\n",
        "joblib.dump(rf, '../models/rf_model_v1.pkl')\n",
        "\n",
        "# 2. Обучение GradientBoosting\n",
        "gb = GradientBoostingClassifier()\n",
        "gb.fit(X, y)\n",
        "joblib.dump(gb, '../models/gb_model_v1.pkl')\n",
        "\n",
        "# 3. Обучение SVM\n",
        "svm = SVC(probability=True)\n",
        "svm.fit(X, y)\n",
        "joblib.dump(svm, '../models/svm_model_v1.pkl')"
      ],
      "metadata": {
        "colab": {
          "base_uri": "https://localhost:8080/"
        },
        "id": "8LZyYZCwjh-z",
        "outputId": "000927df-a338-4e28-e6be-ae96feb48ea3"
      },
      "execution_count": 5,
      "outputs": [
        {
          "output_type": "execute_result",
          "data": {
            "text/plain": [
              "['svm_model_v1.pkl']"
            ]
          },
          "metadata": {},
          "execution_count": 5
        }
      ]
    }
  ]
}